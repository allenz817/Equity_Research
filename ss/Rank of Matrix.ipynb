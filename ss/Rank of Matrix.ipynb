{
 "cells": [
  {
   "cell_type": "code",
   "execution_count": 1,
   "id": "43f7f36f-81f1-41b1-848f-198f85e752a3",
   "metadata": {
    "tags": []
   },
   "outputs": [
    {
     "name": "stdout",
     "output_type": "stream",
     "text": [
      "The rank of the matrix is 4\n"
     ]
    }
   ],
   "source": [
    "import numpy as np\n",
    "\n",
    "# Define your matrix\n",
    "matrix = np.array([[0, 0, 0, 1, 1], \n",
    "                   [0, 1, 0, 1, 1], \n",
    "                   [1, 0, 1, 0, 0], \n",
    "                   [0, 0, 0, 1, 1], \n",
    "                   [0, 1, 1, 1, 1]])\n",
    "\n",
    "# Calculate the rank of the matrix\n",
    "rank = np.linalg.matrix_rank(matrix)\n",
    "\n",
    "print(f'The rank of the matrix is {rank}')\n"
   ]
  },
  {
   "cell_type": "code",
   "execution_count": null,
   "id": "1f3a98dc-8d12-439b-bef8-ced476b3ae8c",
   "metadata": {},
   "outputs": [],
   "source": [
    " "
   ]
  }
 ],
 "metadata": {
  "kernelspec": {
   "display_name": "Python 3 (ipykernel)",
   "language": "python",
   "name": "python3"
  },
  "language_info": {
   "codemirror_mode": {
    "name": "ipython",
    "version": 3
   },
   "file_extension": ".py",
   "mimetype": "text/x-python",
   "name": "python",
   "nbconvert_exporter": "python",
   "pygments_lexer": "ipython3",
   "version": "3.11.7"
  }
 },
 "nbformat": 4,
 "nbformat_minor": 5
}
